{
  "nbformat": 4,
  "nbformat_minor": 0,
  "metadata": {
    "colab": {
      "provenance": []
    },
    "kernelspec": {
      "name": "python3",
      "display_name": "Python 3"
    },
    "language_info": {
      "name": "python"
    }
  },
  "cells": [
    {
      "cell_type": "markdown",
      "source": [
        "Importing Libraries\n",
        "\n"
      ],
      "metadata": {
        "id": "RIEAsqBrWNNE"
      }
    },
    {
      "cell_type": "code",
      "source": [
        "#Importing Libraries\n",
        "import re\n",
        "import time\n",
        "import pickle\n",
        "import spacy\n",
        "import numpy as np\n",
        "import pandas as pd\n",
        "from tqdm import tqdm"
      ],
      "metadata": {
        "id": "s8wQ0gi_VrUs"
      },
      "execution_count": 1,
      "outputs": []
    },
    {
      "cell_type": "markdown",
      "source": [
        "Read and Inspect Data"
      ],
      "metadata": {
        "id": "LAVK7KXdWSEt"
      }
    },
    {
      "cell_type": "code",
      "source": [
        "#read data\n",
        "train_dataset = pd.read_csv(\"/content/train.csv\")\n",
        "test_dataset = pd.read_csv(\"/content/test.csv\")"
      ],
      "metadata": {
        "id": "VxIo71s5WQPj"
      },
      "execution_count": 2,
      "outputs": []
    },
    {
      "cell_type": "code",
      "source": [
        "#checkng the shape of train and test dataset\n",
        "train_dataset.shape, test_dataset.shape"
      ],
      "metadata": {
        "colab": {
          "base_uri": "https://localhost:8080/"
        },
        "id": "4yWDzE9bW4xV",
        "outputId": "0edb508e-379c-40ab-d495-ab7ba6e04129"
      },
      "execution_count": 5,
      "outputs": [
        {
          "output_type": "execute_result",
          "data": {
            "text/plain": [
              "((7920, 3), (1953, 2))"
            ]
          },
          "metadata": {},
          "execution_count": 5
        }
      ]
    },
    {
      "cell_type": "markdown",
      "source": [
        "The train set has 7,920 tweets while the test set has only 1,953."
      ],
      "metadata": {
        "id": "jJVByckKXHKw"
      }
    },
    {
      "cell_type": "code",
      "source": [
        "#checking the class distribution in the train set\n",
        "train_dataset['label'].value_counts(normalize = True)"
      ],
      "metadata": {
        "colab": {
          "base_uri": "https://localhost:8080/"
        },
        "id": "N54jbCR0XKZw",
        "outputId": "b58b4919-4ece-42dc-95a3-082f9ca11acc"
      },
      "execution_count": 7,
      "outputs": [
        {
          "output_type": "execute_result",
          "data": {
            "text/plain": [
              "0    0.744192\n",
              "1    0.255808\n",
              "Name: label, dtype: float64"
            ]
          },
          "metadata": {},
          "execution_count": 7
        }
      ]
    },
    {
      "cell_type": "code",
      "source": [
        "#first five rows of the dataset\n",
        "train_dataset.head()"
      ],
      "metadata": {
        "colab": {
          "base_uri": "https://localhost:8080/",
          "height": 206
        },
        "id": "-hIHKJLwXVNy",
        "outputId": "f78186b5-dc86-4a59-fc17-08f5f70593bc"
      },
      "execution_count": 9,
      "outputs": [
        {
          "output_type": "execute_result",
          "data": {
            "text/plain": [
              "   id  label                                              tweet\n",
              "0   1      0  #fingerprint #Pregnancy Test https://goo.gl/h1...\n",
              "1   2      0  Finally a transparant silicon case ^^ Thanks t...\n",
              "2   3      0  We love this! Would you go? #talk #makememorie...\n",
              "3   4      0  I'm wired I know I'm George I was made that wa...\n",
              "4   5      1  What amazing service! Apple won't even talk to..."
            ],
            "text/html": [
              "\n",
              "  <div id=\"df-275d1e73-110c-4c35-985f-b1359d4c537d\" class=\"colab-df-container\">\n",
              "    <div>\n",
              "<style scoped>\n",
              "    .dataframe tbody tr th:only-of-type {\n",
              "        vertical-align: middle;\n",
              "    }\n",
              "\n",
              "    .dataframe tbody tr th {\n",
              "        vertical-align: top;\n",
              "    }\n",
              "\n",
              "    .dataframe thead th {\n",
              "        text-align: right;\n",
              "    }\n",
              "</style>\n",
              "<table border=\"1\" class=\"dataframe\">\n",
              "  <thead>\n",
              "    <tr style=\"text-align: right;\">\n",
              "      <th></th>\n",
              "      <th>id</th>\n",
              "      <th>label</th>\n",
              "      <th>tweet</th>\n",
              "    </tr>\n",
              "  </thead>\n",
              "  <tbody>\n",
              "    <tr>\n",
              "      <th>0</th>\n",
              "      <td>1</td>\n",
              "      <td>0</td>\n",
              "      <td>#fingerprint #Pregnancy Test https://goo.gl/h1...</td>\n",
              "    </tr>\n",
              "    <tr>\n",
              "      <th>1</th>\n",
              "      <td>2</td>\n",
              "      <td>0</td>\n",
              "      <td>Finally a transparant silicon case ^^ Thanks t...</td>\n",
              "    </tr>\n",
              "    <tr>\n",
              "      <th>2</th>\n",
              "      <td>3</td>\n",
              "      <td>0</td>\n",
              "      <td>We love this! Would you go? #talk #makememorie...</td>\n",
              "    </tr>\n",
              "    <tr>\n",
              "      <th>3</th>\n",
              "      <td>4</td>\n",
              "      <td>0</td>\n",
              "      <td>I'm wired I know I'm George I was made that wa...</td>\n",
              "    </tr>\n",
              "    <tr>\n",
              "      <th>4</th>\n",
              "      <td>5</td>\n",
              "      <td>1</td>\n",
              "      <td>What amazing service! Apple won't even talk to...</td>\n",
              "    </tr>\n",
              "  </tbody>\n",
              "</table>\n",
              "</div>\n",
              "    <div class=\"colab-df-buttons\">\n",
              "\n",
              "  <div class=\"colab-df-container\">\n",
              "    <button class=\"colab-df-convert\" onclick=\"convertToInteractive('df-275d1e73-110c-4c35-985f-b1359d4c537d')\"\n",
              "            title=\"Convert this dataframe to an interactive table.\"\n",
              "            style=\"display:none;\">\n",
              "\n",
              "  <svg xmlns=\"http://www.w3.org/2000/svg\" height=\"24px\" viewBox=\"0 -960 960 960\">\n",
              "    <path d=\"M120-120v-720h720v720H120Zm60-500h600v-160H180v160Zm220 220h160v-160H400v160Zm0 220h160v-160H400v160ZM180-400h160v-160H180v160Zm440 0h160v-160H620v160ZM180-180h160v-160H180v160Zm440 0h160v-160H620v160Z\"/>\n",
              "  </svg>\n",
              "    </button>\n",
              "\n",
              "  <style>\n",
              "    .colab-df-container {\n",
              "      display:flex;\n",
              "      gap: 12px;\n",
              "    }\n",
              "\n",
              "    .colab-df-convert {\n",
              "      background-color: #E8F0FE;\n",
              "      border: none;\n",
              "      border-radius: 50%;\n",
              "      cursor: pointer;\n",
              "      display: none;\n",
              "      fill: #1967D2;\n",
              "      height: 32px;\n",
              "      padding: 0 0 0 0;\n",
              "      width: 32px;\n",
              "    }\n",
              "\n",
              "    .colab-df-convert:hover {\n",
              "      background-color: #E2EBFA;\n",
              "      box-shadow: 0px 1px 2px rgba(60, 64, 67, 0.3), 0px 1px 3px 1px rgba(60, 64, 67, 0.15);\n",
              "      fill: #174EA6;\n",
              "    }\n",
              "\n",
              "    .colab-df-buttons div {\n",
              "      margin-bottom: 4px;\n",
              "    }\n",
              "\n",
              "    [theme=dark] .colab-df-convert {\n",
              "      background-color: #3B4455;\n",
              "      fill: #D2E3FC;\n",
              "    }\n",
              "\n",
              "    [theme=dark] .colab-df-convert:hover {\n",
              "      background-color: #434B5C;\n",
              "      box-shadow: 0px 1px 3px 1px rgba(0, 0, 0, 0.15);\n",
              "      filter: drop-shadow(0px 1px 2px rgba(0, 0, 0, 0.3));\n",
              "      fill: #FFFFFF;\n",
              "    }\n",
              "  </style>\n",
              "\n",
              "    <script>\n",
              "      const buttonEl =\n",
              "        document.querySelector('#df-275d1e73-110c-4c35-985f-b1359d4c537d button.colab-df-convert');\n",
              "      buttonEl.style.display =\n",
              "        google.colab.kernel.accessAllowed ? 'block' : 'none';\n",
              "\n",
              "      async function convertToInteractive(key) {\n",
              "        const element = document.querySelector('#df-275d1e73-110c-4c35-985f-b1359d4c537d');\n",
              "        const dataTable =\n",
              "          await google.colab.kernel.invokeFunction('convertToInteractive',\n",
              "                                                    [key], {});\n",
              "        if (!dataTable) return;\n",
              "\n",
              "        const docLinkHtml = 'Like what you see? Visit the ' +\n",
              "          '<a target=\"_blank\" href=https://colab.research.google.com/notebooks/data_table.ipynb>data table notebook</a>'\n",
              "          + ' to learn more about interactive tables.';\n",
              "        element.innerHTML = '';\n",
              "        dataTable['output_type'] = 'display_data';\n",
              "        await google.colab.output.renderOutput(dataTable, element);\n",
              "        const docLink = document.createElement('div');\n",
              "        docLink.innerHTML = docLinkHtml;\n",
              "        element.appendChild(docLink);\n",
              "      }\n",
              "    </script>\n",
              "  </div>\n",
              "\n",
              "\n",
              "<div id=\"df-edd6c499-249b-432e-a847-885c22947514\">\n",
              "  <button class=\"colab-df-quickchart\" onclick=\"quickchart('df-edd6c499-249b-432e-a847-885c22947514')\"\n",
              "            title=\"Suggest charts.\"\n",
              "            style=\"display:none;\">\n",
              "\n",
              "<svg xmlns=\"http://www.w3.org/2000/svg\" height=\"24px\"viewBox=\"0 0 24 24\"\n",
              "     width=\"24px\">\n",
              "    <g>\n",
              "        <path d=\"M19 3H5c-1.1 0-2 .9-2 2v14c0 1.1.9 2 2 2h14c1.1 0 2-.9 2-2V5c0-1.1-.9-2-2-2zM9 17H7v-7h2v7zm4 0h-2V7h2v10zm4 0h-2v-4h2v4z\"/>\n",
              "    </g>\n",
              "</svg>\n",
              "  </button>\n",
              "\n",
              "<style>\n",
              "  .colab-df-quickchart {\n",
              "      --bg-color: #E8F0FE;\n",
              "      --fill-color: #1967D2;\n",
              "      --hover-bg-color: #E2EBFA;\n",
              "      --hover-fill-color: #174EA6;\n",
              "      --disabled-fill-color: #AAA;\n",
              "      --disabled-bg-color: #DDD;\n",
              "  }\n",
              "\n",
              "  [theme=dark] .colab-df-quickchart {\n",
              "      --bg-color: #3B4455;\n",
              "      --fill-color: #D2E3FC;\n",
              "      --hover-bg-color: #434B5C;\n",
              "      --hover-fill-color: #FFFFFF;\n",
              "      --disabled-bg-color: #3B4455;\n",
              "      --disabled-fill-color: #666;\n",
              "  }\n",
              "\n",
              "  .colab-df-quickchart {\n",
              "    background-color: var(--bg-color);\n",
              "    border: none;\n",
              "    border-radius: 50%;\n",
              "    cursor: pointer;\n",
              "    display: none;\n",
              "    fill: var(--fill-color);\n",
              "    height: 32px;\n",
              "    padding: 0;\n",
              "    width: 32px;\n",
              "  }\n",
              "\n",
              "  .colab-df-quickchart:hover {\n",
              "    background-color: var(--hover-bg-color);\n",
              "    box-shadow: 0 1px 2px rgba(60, 64, 67, 0.3), 0 1px 3px 1px rgba(60, 64, 67, 0.15);\n",
              "    fill: var(--button-hover-fill-color);\n",
              "  }\n",
              "\n",
              "  .colab-df-quickchart-complete:disabled,\n",
              "  .colab-df-quickchart-complete:disabled:hover {\n",
              "    background-color: var(--disabled-bg-color);\n",
              "    fill: var(--disabled-fill-color);\n",
              "    box-shadow: none;\n",
              "  }\n",
              "\n",
              "  .colab-df-spinner {\n",
              "    border: 2px solid var(--fill-color);\n",
              "    border-color: transparent;\n",
              "    border-bottom-color: var(--fill-color);\n",
              "    animation:\n",
              "      spin 1s steps(1) infinite;\n",
              "  }\n",
              "\n",
              "  @keyframes spin {\n",
              "    0% {\n",
              "      border-color: transparent;\n",
              "      border-bottom-color: var(--fill-color);\n",
              "      border-left-color: var(--fill-color);\n",
              "    }\n",
              "    20% {\n",
              "      border-color: transparent;\n",
              "      border-left-color: var(--fill-color);\n",
              "      border-top-color: var(--fill-color);\n",
              "    }\n",
              "    30% {\n",
              "      border-color: transparent;\n",
              "      border-left-color: var(--fill-color);\n",
              "      border-top-color: var(--fill-color);\n",
              "      border-right-color: var(--fill-color);\n",
              "    }\n",
              "    40% {\n",
              "      border-color: transparent;\n",
              "      border-right-color: var(--fill-color);\n",
              "      border-top-color: var(--fill-color);\n",
              "    }\n",
              "    60% {\n",
              "      border-color: transparent;\n",
              "      border-right-color: var(--fill-color);\n",
              "    }\n",
              "    80% {\n",
              "      border-color: transparent;\n",
              "      border-right-color: var(--fill-color);\n",
              "      border-bottom-color: var(--fill-color);\n",
              "    }\n",
              "    90% {\n",
              "      border-color: transparent;\n",
              "      border-bottom-color: var(--fill-color);\n",
              "    }\n",
              "  }\n",
              "</style>\n",
              "\n",
              "  <script>\n",
              "    async function quickchart(key) {\n",
              "      const quickchartButtonEl =\n",
              "        document.querySelector('#' + key + ' button');\n",
              "      quickchartButtonEl.disabled = true;  // To prevent multiple clicks.\n",
              "      quickchartButtonEl.classList.add('colab-df-spinner');\n",
              "      try {\n",
              "        const charts = await google.colab.kernel.invokeFunction(\n",
              "            'suggestCharts', [key], {});\n",
              "      } catch (error) {\n",
              "        console.error('Error during call to suggestCharts:', error);\n",
              "      }\n",
              "      quickchartButtonEl.classList.remove('colab-df-spinner');\n",
              "      quickchartButtonEl.classList.add('colab-df-quickchart-complete');\n",
              "    }\n",
              "    (() => {\n",
              "      let quickchartButtonEl =\n",
              "        document.querySelector('#df-edd6c499-249b-432e-a847-885c22947514 button');\n",
              "      quickchartButtonEl.style.display =\n",
              "        google.colab.kernel.accessAllowed ? 'block' : 'none';\n",
              "    })();\n",
              "  </script>\n",
              "</div>\n",
              "    </div>\n",
              "  </div>\n"
            ]
          },
          "metadata": {},
          "execution_count": 9
        }
      ]
    },
    {
      "cell_type": "markdown",
      "source": [
        "Text Cleaning and Preprocessing"
      ],
      "metadata": {
        "id": "4D0ttzRgYAkl"
      }
    },
    {
      "cell_type": "code",
      "source": [
        "# remove URL's from train and test\n",
        "train_dataset['clean_tweet'] = train_dataset['tweet'].apply(lambda x: re.sub(r'http\\S+', '', x))\n",
        "test_dataset['clean_tweet'] = test_dataset['tweet'].apply(lambda x: re.sub(r'http\\S+', '', x))"
      ],
      "metadata": {
        "id": "Hrua0k9lYEGo"
      },
      "execution_count": 11,
      "outputs": []
    },
    {
      "cell_type": "code",
      "source": [
        "# remove punctuation marks\n",
        "punctuation = '!\"#$%&()*+-/:;<=>?@[\\\\]^_`{|}~'\n",
        "\n",
        "train_dataset['clean_tweet'] = train_dataset['clean_tweet'].apply(lambda x: ''.join(ch for ch in x if ch not in set(punctuation)))\n",
        "test_dataset['clean_tweet'] = test_dataset['clean_tweet'].apply(lambda x: ''.join(ch for ch in x if ch not in set(punctuation)))"
      ],
      "metadata": {
        "id": "TrXYvDjObgah"
      },
      "execution_count": 13,
      "outputs": []
    },
    {
      "cell_type": "code",
      "source": [
        "# convert text to lowercase\n",
        "train_dataset['clean_tweet'] = train_dataset['clean_tweet'].str.lower()\n",
        "test_dataset['clean_tweet'] = test_dataset['clean_tweet'].str.lower()"
      ],
      "metadata": {
        "id": "tXRvkBUHbuNN"
      },
      "execution_count": 15,
      "outputs": []
    },
    {
      "cell_type": "code",
      "source": [
        "#remove numbers\n",
        "train_dataset['clean_tweet'] = train_dataset['clean_tweet'].str.replace(\"[0-9]\",\" \")\n",
        "test_dataset['clean_tweet'] = test_dataset['clean_tweet'].str.replace(\"[0-9]\",\" \")"
      ],
      "metadata": {
        "colab": {
          "base_uri": "https://localhost:8080/"
        },
        "id": "xiwfAHdnc50R",
        "outputId": "cda491b4-0c2a-4723-bede-46e4dc0e5fb3"
      },
      "execution_count": 16,
      "outputs": [
        {
          "output_type": "stream",
          "name": "stderr",
          "text": [
            "<ipython-input-16-b5a60eb7aa96>:2: FutureWarning: The default value of regex will change from True to False in a future version.\n",
            "  train_dataset['clean_tweet'] = train_dataset['clean_tweet'].str.replace(\"[0-9]\",\" \")\n",
            "<ipython-input-16-b5a60eb7aa96>:3: FutureWarning: The default value of regex will change from True to False in a future version.\n",
            "  test_dataset['clean_tweet'] = test_dataset['clean_tweet'].str.replace(\"[0-9]\",\" \")\n"
          ]
        }
      ]
    },
    {
      "cell_type": "code",
      "source": [
        "#remove whitespace\n",
        "train_dataset['clean_tweet'] = train_dataset['clean_tweet'].apply(lambda x: ' '.join(x.split()))\n",
        "test_dataset['clean_tweet'] = test_dataset['clean_tweet'].apply(lambda x: ' '.join(x.split()))"
      ],
      "metadata": {
        "id": "An84eZOOdXc8"
      },
      "execution_count": 17,
      "outputs": []
    },
    {
      "cell_type": "markdown",
      "source": [
        "Text Normalization"
      ],
      "metadata": {
        "id": "UPh1pzJpfABg"
      }
    },
    {
      "cell_type": "code",
      "source": [
        "# import spaCy's language model\n",
        "nlp = spacy.load('en_core_web_sm', disable=['parser', 'ner'])\n",
        "\n",
        "# function to lemmatize text\n",
        "def lemmatization(texts):\n",
        "    output = []\n",
        "    for i in texts:\n",
        "        s = [token.lemma_ for token in nlp(i)]\n",
        "        output.append(' '.join(s))\n",
        "    return output"
      ],
      "metadata": {
        "id": "Ej_kGTHZfBlz"
      },
      "execution_count": 19,
      "outputs": []
    },
    {
      "cell_type": "code",
      "source": [
        "train_dataset['clean_tweet'] = lemmatization(train_dataset['clean_tweet'])\n",
        "test_dataset['clean_tweet'] = lemmatization(test_dataset['clean_tweet'])"
      ],
      "metadata": {
        "id": "WYhi25QZfSm1"
      },
      "execution_count": 20,
      "outputs": []
    },
    {
      "cell_type": "code",
      "source": [
        "train_dataset.sample(10)"
      ],
      "metadata": {
        "colab": {
          "base_uri": "https://localhost:8080/",
          "height": 363
        },
        "id": "7cmWbHy7f_a8",
        "outputId": "21a2ab03-7dba-4562-e363-6f91e59d566c"
      },
      "execution_count": 21,
      "outputs": [
        {
          "output_type": "execute_result",
          "data": {
            "text/plain": [
              "        id  label                                              tweet  \\\n",
              "7288  7289      0  It's beautiful ... #samsung #galaxy #note #tab...   \n",
              "6778  6779      1  @oliyoung but I'm still #hating on them for no...   \n",
              "4677  4678      1  Dear, #Apple. You've made me reset my password...   \n",
              "7066  7067      1  You #suck #apple . All this hype for the #Beat...   \n",
              "1491  1492      0  Posing Curiously..!! #cute #angel #cutiepie #g...   \n",
              "4887  4888      1  No seriously, I don't mind a report I finished...   \n",
              "3022  3023      0  Don't kiss girl without permission https://you...   \n",
              "3141  3142      1  Apple better replace my piece of $&@*# phone c...   \n",
              "4575  4576      0  Delicious fresh apple juice. . #goodmorning #m...   \n",
              "7073  7074      0  $&@*# yeah #gradpresent #apple #mac #book #pro...   \n",
              "\n",
              "                                            clean_tweet  \n",
              "7288  it be beautiful ... samsung galaxy note tablet...  \n",
              "6778  oliyoung but I be still hate on they for no gt...  \n",
              "4677  dear , apple . you 've make I reset my passwor...  \n",
              "7066  you suck apple . all this hype for the beatle ...  \n",
              "1491  pose curiously .. cute angel cutiepie girlnext...  \n",
              "4887  no seriously , I do not mind a report I finish...  \n",
              "3022  do not kiss girl without permission via youtub...  \n",
              "3141  apple well replace my piece of phone cuz I wan...  \n",
              "4575  delicious fresh apple juice . . goodmorning mo...  \n",
              "7073  yeah gradpresent apple mac book pro excited fu...  "
            ],
            "text/html": [
              "\n",
              "  <div id=\"df-f5a2192a-cc1a-4f75-8bb9-95bd1b321549\" class=\"colab-df-container\">\n",
              "    <div>\n",
              "<style scoped>\n",
              "    .dataframe tbody tr th:only-of-type {\n",
              "        vertical-align: middle;\n",
              "    }\n",
              "\n",
              "    .dataframe tbody tr th {\n",
              "        vertical-align: top;\n",
              "    }\n",
              "\n",
              "    .dataframe thead th {\n",
              "        text-align: right;\n",
              "    }\n",
              "</style>\n",
              "<table border=\"1\" class=\"dataframe\">\n",
              "  <thead>\n",
              "    <tr style=\"text-align: right;\">\n",
              "      <th></th>\n",
              "      <th>id</th>\n",
              "      <th>label</th>\n",
              "      <th>tweet</th>\n",
              "      <th>clean_tweet</th>\n",
              "    </tr>\n",
              "  </thead>\n",
              "  <tbody>\n",
              "    <tr>\n",
              "      <th>7288</th>\n",
              "      <td>7289</td>\n",
              "      <td>0</td>\n",
              "      <td>It's beautiful ... #samsung #galaxy #note #tab...</td>\n",
              "      <td>it be beautiful ... samsung galaxy note tablet...</td>\n",
              "    </tr>\n",
              "    <tr>\n",
              "      <th>6778</th>\n",
              "      <td>6779</td>\n",
              "      <td>1</td>\n",
              "      <td>@oliyoung but I'm still #hating on them for no...</td>\n",
              "      <td>oliyoung but I be still hate on they for no gt...</td>\n",
              "    </tr>\n",
              "    <tr>\n",
              "      <th>4677</th>\n",
              "      <td>4678</td>\n",
              "      <td>1</td>\n",
              "      <td>Dear, #Apple. You've made me reset my password...</td>\n",
              "      <td>dear , apple . you 've make I reset my passwor...</td>\n",
              "    </tr>\n",
              "    <tr>\n",
              "      <th>7066</th>\n",
              "      <td>7067</td>\n",
              "      <td>1</td>\n",
              "      <td>You #suck #apple . All this hype for the #Beat...</td>\n",
              "      <td>you suck apple . all this hype for the beatle ...</td>\n",
              "    </tr>\n",
              "    <tr>\n",
              "      <th>1491</th>\n",
              "      <td>1492</td>\n",
              "      <td>0</td>\n",
              "      <td>Posing Curiously..!! #cute #angel #cutiepie #g...</td>\n",
              "      <td>pose curiously .. cute angel cutiepie girlnext...</td>\n",
              "    </tr>\n",
              "    <tr>\n",
              "      <th>4887</th>\n",
              "      <td>4888</td>\n",
              "      <td>1</td>\n",
              "      <td>No seriously, I don't mind a report I finished...</td>\n",
              "      <td>no seriously , I do not mind a report I finish...</td>\n",
              "    </tr>\n",
              "    <tr>\n",
              "      <th>3022</th>\n",
              "      <td>3023</td>\n",
              "      <td>0</td>\n",
              "      <td>Don't kiss girl without permission https://you...</td>\n",
              "      <td>do not kiss girl without permission via youtub...</td>\n",
              "    </tr>\n",
              "    <tr>\n",
              "      <th>3141</th>\n",
              "      <td>3142</td>\n",
              "      <td>1</td>\n",
              "      <td>Apple better replace my piece of $&amp;@*# phone c...</td>\n",
              "      <td>apple well replace my piece of phone cuz I wan...</td>\n",
              "    </tr>\n",
              "    <tr>\n",
              "      <th>4575</th>\n",
              "      <td>4576</td>\n",
              "      <td>0</td>\n",
              "      <td>Delicious fresh apple juice. . #goodmorning #m...</td>\n",
              "      <td>delicious fresh apple juice . . goodmorning mo...</td>\n",
              "    </tr>\n",
              "    <tr>\n",
              "      <th>7073</th>\n",
              "      <td>7074</td>\n",
              "      <td>0</td>\n",
              "      <td>$&amp;@*# yeah #gradpresent #apple #mac #book #pro...</td>\n",
              "      <td>yeah gradpresent apple mac book pro excited fu...</td>\n",
              "    </tr>\n",
              "  </tbody>\n",
              "</table>\n",
              "</div>\n",
              "    <div class=\"colab-df-buttons\">\n",
              "\n",
              "  <div class=\"colab-df-container\">\n",
              "    <button class=\"colab-df-convert\" onclick=\"convertToInteractive('df-f5a2192a-cc1a-4f75-8bb9-95bd1b321549')\"\n",
              "            title=\"Convert this dataframe to an interactive table.\"\n",
              "            style=\"display:none;\">\n",
              "\n",
              "  <svg xmlns=\"http://www.w3.org/2000/svg\" height=\"24px\" viewBox=\"0 -960 960 960\">\n",
              "    <path d=\"M120-120v-720h720v720H120Zm60-500h600v-160H180v160Zm220 220h160v-160H400v160Zm0 220h160v-160H400v160ZM180-400h160v-160H180v160Zm440 0h160v-160H620v160ZM180-180h160v-160H180v160Zm440 0h160v-160H620v160Z\"/>\n",
              "  </svg>\n",
              "    </button>\n",
              "\n",
              "  <style>\n",
              "    .colab-df-container {\n",
              "      display:flex;\n",
              "      gap: 12px;\n",
              "    }\n",
              "\n",
              "    .colab-df-convert {\n",
              "      background-color: #E8F0FE;\n",
              "      border: none;\n",
              "      border-radius: 50%;\n",
              "      cursor: pointer;\n",
              "      display: none;\n",
              "      fill: #1967D2;\n",
              "      height: 32px;\n",
              "      padding: 0 0 0 0;\n",
              "      width: 32px;\n",
              "    }\n",
              "\n",
              "    .colab-df-convert:hover {\n",
              "      background-color: #E2EBFA;\n",
              "      box-shadow: 0px 1px 2px rgba(60, 64, 67, 0.3), 0px 1px 3px 1px rgba(60, 64, 67, 0.15);\n",
              "      fill: #174EA6;\n",
              "    }\n",
              "\n",
              "    .colab-df-buttons div {\n",
              "      margin-bottom: 4px;\n",
              "    }\n",
              "\n",
              "    [theme=dark] .colab-df-convert {\n",
              "      background-color: #3B4455;\n",
              "      fill: #D2E3FC;\n",
              "    }\n",
              "\n",
              "    [theme=dark] .colab-df-convert:hover {\n",
              "      background-color: #434B5C;\n",
              "      box-shadow: 0px 1px 3px 1px rgba(0, 0, 0, 0.15);\n",
              "      filter: drop-shadow(0px 1px 2px rgba(0, 0, 0, 0.3));\n",
              "      fill: #FFFFFF;\n",
              "    }\n",
              "  </style>\n",
              "\n",
              "    <script>\n",
              "      const buttonEl =\n",
              "        document.querySelector('#df-f5a2192a-cc1a-4f75-8bb9-95bd1b321549 button.colab-df-convert');\n",
              "      buttonEl.style.display =\n",
              "        google.colab.kernel.accessAllowed ? 'block' : 'none';\n",
              "\n",
              "      async function convertToInteractive(key) {\n",
              "        const element = document.querySelector('#df-f5a2192a-cc1a-4f75-8bb9-95bd1b321549');\n",
              "        const dataTable =\n",
              "          await google.colab.kernel.invokeFunction('convertToInteractive',\n",
              "                                                    [key], {});\n",
              "        if (!dataTable) return;\n",
              "\n",
              "        const docLinkHtml = 'Like what you see? Visit the ' +\n",
              "          '<a target=\"_blank\" href=https://colab.research.google.com/notebooks/data_table.ipynb>data table notebook</a>'\n",
              "          + ' to learn more about interactive tables.';\n",
              "        element.innerHTML = '';\n",
              "        dataTable['output_type'] = 'display_data';\n",
              "        await google.colab.output.renderOutput(dataTable, element);\n",
              "        const docLink = document.createElement('div');\n",
              "        docLink.innerHTML = docLinkHtml;\n",
              "        element.appendChild(docLink);\n",
              "      }\n",
              "    </script>\n",
              "  </div>\n",
              "\n",
              "\n",
              "<div id=\"df-d6316b74-9af7-46c1-b40d-3ab456483afc\">\n",
              "  <button class=\"colab-df-quickchart\" onclick=\"quickchart('df-d6316b74-9af7-46c1-b40d-3ab456483afc')\"\n",
              "            title=\"Suggest charts.\"\n",
              "            style=\"display:none;\">\n",
              "\n",
              "<svg xmlns=\"http://www.w3.org/2000/svg\" height=\"24px\"viewBox=\"0 0 24 24\"\n",
              "     width=\"24px\">\n",
              "    <g>\n",
              "        <path d=\"M19 3H5c-1.1 0-2 .9-2 2v14c0 1.1.9 2 2 2h14c1.1 0 2-.9 2-2V5c0-1.1-.9-2-2-2zM9 17H7v-7h2v7zm4 0h-2V7h2v10zm4 0h-2v-4h2v4z\"/>\n",
              "    </g>\n",
              "</svg>\n",
              "  </button>\n",
              "\n",
              "<style>\n",
              "  .colab-df-quickchart {\n",
              "      --bg-color: #E8F0FE;\n",
              "      --fill-color: #1967D2;\n",
              "      --hover-bg-color: #E2EBFA;\n",
              "      --hover-fill-color: #174EA6;\n",
              "      --disabled-fill-color: #AAA;\n",
              "      --disabled-bg-color: #DDD;\n",
              "  }\n",
              "\n",
              "  [theme=dark] .colab-df-quickchart {\n",
              "      --bg-color: #3B4455;\n",
              "      --fill-color: #D2E3FC;\n",
              "      --hover-bg-color: #434B5C;\n",
              "      --hover-fill-color: #FFFFFF;\n",
              "      --disabled-bg-color: #3B4455;\n",
              "      --disabled-fill-color: #666;\n",
              "  }\n",
              "\n",
              "  .colab-df-quickchart {\n",
              "    background-color: var(--bg-color);\n",
              "    border: none;\n",
              "    border-radius: 50%;\n",
              "    cursor: pointer;\n",
              "    display: none;\n",
              "    fill: var(--fill-color);\n",
              "    height: 32px;\n",
              "    padding: 0;\n",
              "    width: 32px;\n",
              "  }\n",
              "\n",
              "  .colab-df-quickchart:hover {\n",
              "    background-color: var(--hover-bg-color);\n",
              "    box-shadow: 0 1px 2px rgba(60, 64, 67, 0.3), 0 1px 3px 1px rgba(60, 64, 67, 0.15);\n",
              "    fill: var(--button-hover-fill-color);\n",
              "  }\n",
              "\n",
              "  .colab-df-quickchart-complete:disabled,\n",
              "  .colab-df-quickchart-complete:disabled:hover {\n",
              "    background-color: var(--disabled-bg-color);\n",
              "    fill: var(--disabled-fill-color);\n",
              "    box-shadow: none;\n",
              "  }\n",
              "\n",
              "  .colab-df-spinner {\n",
              "    border: 2px solid var(--fill-color);\n",
              "    border-color: transparent;\n",
              "    border-bottom-color: var(--fill-color);\n",
              "    animation:\n",
              "      spin 1s steps(1) infinite;\n",
              "  }\n",
              "\n",
              "  @keyframes spin {\n",
              "    0% {\n",
              "      border-color: transparent;\n",
              "      border-bottom-color: var(--fill-color);\n",
              "      border-left-color: var(--fill-color);\n",
              "    }\n",
              "    20% {\n",
              "      border-color: transparent;\n",
              "      border-left-color: var(--fill-color);\n",
              "      border-top-color: var(--fill-color);\n",
              "    }\n",
              "    30% {\n",
              "      border-color: transparent;\n",
              "      border-left-color: var(--fill-color);\n",
              "      border-top-color: var(--fill-color);\n",
              "      border-right-color: var(--fill-color);\n",
              "    }\n",
              "    40% {\n",
              "      border-color: transparent;\n",
              "      border-right-color: var(--fill-color);\n",
              "      border-top-color: var(--fill-color);\n",
              "    }\n",
              "    60% {\n",
              "      border-color: transparent;\n",
              "      border-right-color: var(--fill-color);\n",
              "    }\n",
              "    80% {\n",
              "      border-color: transparent;\n",
              "      border-right-color: var(--fill-color);\n",
              "      border-bottom-color: var(--fill-color);\n",
              "    }\n",
              "    90% {\n",
              "      border-color: transparent;\n",
              "      border-bottom-color: var(--fill-color);\n",
              "    }\n",
              "  }\n",
              "</style>\n",
              "\n",
              "  <script>\n",
              "    async function quickchart(key) {\n",
              "      const quickchartButtonEl =\n",
              "        document.querySelector('#' + key + ' button');\n",
              "      quickchartButtonEl.disabled = true;  // To prevent multiple clicks.\n",
              "      quickchartButtonEl.classList.add('colab-df-spinner');\n",
              "      try {\n",
              "        const charts = await google.colab.kernel.invokeFunction(\n",
              "            'suggestCharts', [key], {});\n",
              "      } catch (error) {\n",
              "        console.error('Error during call to suggestCharts:', error);\n",
              "      }\n",
              "      quickchartButtonEl.classList.remove('colab-df-spinner');\n",
              "      quickchartButtonEl.classList.add('colab-df-quickchart-complete');\n",
              "    }\n",
              "    (() => {\n",
              "      let quickchartButtonEl =\n",
              "        document.querySelector('#df-d6316b74-9af7-46c1-b40d-3ab456483afc button');\n",
              "      quickchartButtonEl.style.display =\n",
              "        google.colab.kernel.accessAllowed ? 'block' : 'none';\n",
              "    })();\n",
              "  </script>\n",
              "</div>\n",
              "    </div>\n",
              "  </div>\n"
            ]
          },
          "metadata": {},
          "execution_count": 21
        }
      ]
    },
    {
      "cell_type": "markdown",
      "source": [
        "**Installing Tensorflow Hub**"
      ],
      "metadata": {
        "id": "PY3gIGqig0NF"
      }
    },
    {
      "cell_type": "code",
      "source": [
        "!pip install \"tensorflow>=1.7.0\""
      ],
      "metadata": {
        "colab": {
          "base_uri": "https://localhost:8080/"
        },
        "id": "hp-isrc5g5zR",
        "outputId": "b6d5f001-a965-4920-cfb3-ea26b37ed983"
      },
      "execution_count": 22,
      "outputs": [
        {
          "output_type": "stream",
          "name": "stdout",
          "text": [
            "Requirement already satisfied: tensorflow>=1.7.0 in /usr/local/lib/python3.10/dist-packages (2.13.0)\n",
            "Requirement already satisfied: absl-py>=1.0.0 in /usr/local/lib/python3.10/dist-packages (from tensorflow>=1.7.0) (1.4.0)\n",
            "Requirement already satisfied: astunparse>=1.6.0 in /usr/local/lib/python3.10/dist-packages (from tensorflow>=1.7.0) (1.6.3)\n",
            "Requirement already satisfied: flatbuffers>=23.1.21 in /usr/local/lib/python3.10/dist-packages (from tensorflow>=1.7.0) (23.5.26)\n",
            "Requirement already satisfied: gast<=0.4.0,>=0.2.1 in /usr/local/lib/python3.10/dist-packages (from tensorflow>=1.7.0) (0.4.0)\n",
            "Requirement already satisfied: google-pasta>=0.1.1 in /usr/local/lib/python3.10/dist-packages (from tensorflow>=1.7.0) (0.2.0)\n",
            "Requirement already satisfied: grpcio<2.0,>=1.24.3 in /usr/local/lib/python3.10/dist-packages (from tensorflow>=1.7.0) (1.59.0)\n",
            "Requirement already satisfied: h5py>=2.9.0 in /usr/local/lib/python3.10/dist-packages (from tensorflow>=1.7.0) (3.9.0)\n",
            "Requirement already satisfied: keras<2.14,>=2.13.1 in /usr/local/lib/python3.10/dist-packages (from tensorflow>=1.7.0) (2.13.1)\n",
            "Requirement already satisfied: libclang>=13.0.0 in /usr/local/lib/python3.10/dist-packages (from tensorflow>=1.7.0) (16.0.6)\n",
            "Requirement already satisfied: numpy<=1.24.3,>=1.22 in /usr/local/lib/python3.10/dist-packages (from tensorflow>=1.7.0) (1.23.5)\n",
            "Requirement already satisfied: opt-einsum>=2.3.2 in /usr/local/lib/python3.10/dist-packages (from tensorflow>=1.7.0) (3.3.0)\n",
            "Requirement already satisfied: packaging in /usr/local/lib/python3.10/dist-packages (from tensorflow>=1.7.0) (23.2)\n",
            "Requirement already satisfied: protobuf!=4.21.0,!=4.21.1,!=4.21.2,!=4.21.3,!=4.21.4,!=4.21.5,<5.0.0dev,>=3.20.3 in /usr/local/lib/python3.10/dist-packages (from tensorflow>=1.7.0) (3.20.3)\n",
            "Requirement already satisfied: setuptools in /usr/local/lib/python3.10/dist-packages (from tensorflow>=1.7.0) (67.7.2)\n",
            "Requirement already satisfied: six>=1.12.0 in /usr/local/lib/python3.10/dist-packages (from tensorflow>=1.7.0) (1.16.0)\n",
            "Requirement already satisfied: tensorboard<2.14,>=2.13 in /usr/local/lib/python3.10/dist-packages (from tensorflow>=1.7.0) (2.13.0)\n",
            "Requirement already satisfied: tensorflow-estimator<2.14,>=2.13.0 in /usr/local/lib/python3.10/dist-packages (from tensorflow>=1.7.0) (2.13.0)\n",
            "Requirement already satisfied: termcolor>=1.1.0 in /usr/local/lib/python3.10/dist-packages (from tensorflow>=1.7.0) (2.3.0)\n",
            "Requirement already satisfied: typing-extensions<4.6.0,>=3.6.6 in /usr/local/lib/python3.10/dist-packages (from tensorflow>=1.7.0) (4.5.0)\n",
            "Requirement already satisfied: wrapt>=1.11.0 in /usr/local/lib/python3.10/dist-packages (from tensorflow>=1.7.0) (1.15.0)\n",
            "Requirement already satisfied: tensorflow-io-gcs-filesystem>=0.23.1 in /usr/local/lib/python3.10/dist-packages (from tensorflow>=1.7.0) (0.34.0)\n",
            "Requirement already satisfied: wheel<1.0,>=0.23.0 in /usr/local/lib/python3.10/dist-packages (from astunparse>=1.6.0->tensorflow>=1.7.0) (0.41.2)\n",
            "Requirement already satisfied: google-auth<3,>=1.6.3 in /usr/local/lib/python3.10/dist-packages (from tensorboard<2.14,>=2.13->tensorflow>=1.7.0) (2.17.3)\n",
            "Requirement already satisfied: google-auth-oauthlib<1.1,>=0.5 in /usr/local/lib/python3.10/dist-packages (from tensorboard<2.14,>=2.13->tensorflow>=1.7.0) (1.0.0)\n",
            "Requirement already satisfied: markdown>=2.6.8 in /usr/local/lib/python3.10/dist-packages (from tensorboard<2.14,>=2.13->tensorflow>=1.7.0) (3.5)\n",
            "Requirement already satisfied: requests<3,>=2.21.0 in /usr/local/lib/python3.10/dist-packages (from tensorboard<2.14,>=2.13->tensorflow>=1.7.0) (2.31.0)\n",
            "Requirement already satisfied: tensorboard-data-server<0.8.0,>=0.7.0 in /usr/local/lib/python3.10/dist-packages (from tensorboard<2.14,>=2.13->tensorflow>=1.7.0) (0.7.1)\n",
            "Requirement already satisfied: werkzeug>=1.0.1 in /usr/local/lib/python3.10/dist-packages (from tensorboard<2.14,>=2.13->tensorflow>=1.7.0) (3.0.0)\n",
            "Requirement already satisfied: cachetools<6.0,>=2.0.0 in /usr/local/lib/python3.10/dist-packages (from google-auth<3,>=1.6.3->tensorboard<2.14,>=2.13->tensorflow>=1.7.0) (5.3.1)\n",
            "Requirement already satisfied: pyasn1-modules>=0.2.1 in /usr/local/lib/python3.10/dist-packages (from google-auth<3,>=1.6.3->tensorboard<2.14,>=2.13->tensorflow>=1.7.0) (0.3.0)\n",
            "Requirement already satisfied: rsa<5,>=3.1.4 in /usr/local/lib/python3.10/dist-packages (from google-auth<3,>=1.6.3->tensorboard<2.14,>=2.13->tensorflow>=1.7.0) (4.9)\n",
            "Requirement already satisfied: requests-oauthlib>=0.7.0 in /usr/local/lib/python3.10/dist-packages (from google-auth-oauthlib<1.1,>=0.5->tensorboard<2.14,>=2.13->tensorflow>=1.7.0) (1.3.1)\n",
            "Requirement already satisfied: charset-normalizer<4,>=2 in /usr/local/lib/python3.10/dist-packages (from requests<3,>=2.21.0->tensorboard<2.14,>=2.13->tensorflow>=1.7.0) (3.3.0)\n",
            "Requirement already satisfied: idna<4,>=2.5 in /usr/local/lib/python3.10/dist-packages (from requests<3,>=2.21.0->tensorboard<2.14,>=2.13->tensorflow>=1.7.0) (3.4)\n",
            "Requirement already satisfied: urllib3<3,>=1.21.1 in /usr/local/lib/python3.10/dist-packages (from requests<3,>=2.21.0->tensorboard<2.14,>=2.13->tensorflow>=1.7.0) (2.0.6)\n",
            "Requirement already satisfied: certifi>=2017.4.17 in /usr/local/lib/python3.10/dist-packages (from requests<3,>=2.21.0->tensorboard<2.14,>=2.13->tensorflow>=1.7.0) (2023.7.22)\n",
            "Requirement already satisfied: MarkupSafe>=2.1.1 in /usr/local/lib/python3.10/dist-packages (from werkzeug>=1.0.1->tensorboard<2.14,>=2.13->tensorflow>=1.7.0) (2.1.3)\n",
            "Requirement already satisfied: pyasn1<0.6.0,>=0.4.6 in /usr/local/lib/python3.10/dist-packages (from pyasn1-modules>=0.2.1->google-auth<3,>=1.6.3->tensorboard<2.14,>=2.13->tensorflow>=1.7.0) (0.5.0)\n",
            "Requirement already satisfied: oauthlib>=3.0.0 in /usr/local/lib/python3.10/dist-packages (from requests-oauthlib>=0.7.0->google-auth-oauthlib<1.1,>=0.5->tensorboard<2.14,>=2.13->tensorflow>=1.7.0) (3.2.2)\n"
          ]
        }
      ]
    },
    {
      "cell_type": "code",
      "source": [
        "!pip install tensorflow-hub"
      ],
      "metadata": {
        "colab": {
          "base_uri": "https://localhost:8080/"
        },
        "id": "b4kMuO6BhBlW",
        "outputId": "ac99b71d-69f8-4516-93e2-615acd19c2c2"
      },
      "execution_count": 23,
      "outputs": [
        {
          "output_type": "stream",
          "name": "stdout",
          "text": [
            "Requirement already satisfied: tensorflow-hub in /usr/local/lib/python3.10/dist-packages (0.15.0)\n",
            "Requirement already satisfied: numpy>=1.12.0 in /usr/local/lib/python3.10/dist-packages (from tensorflow-hub) (1.23.5)\n",
            "Requirement already satisfied: protobuf>=3.19.6 in /usr/local/lib/python3.10/dist-packages (from tensorflow-hub) (3.20.3)\n"
          ]
        }
      ]
    },
    {
      "cell_type": "markdown",
      "source": [
        "Preparing ELMo Vectors"
      ],
      "metadata": {
        "id": "LVnVE1aihHZ8"
      }
    },
    {
      "cell_type": "code",
      "source": [
        "import tensorflow_hub as hub\n",
        "import tensorflow as tf"
      ],
      "metadata": {
        "id": "-IYcszR5hEfD"
      },
      "execution_count": 46,
      "outputs": []
    },
    {
      "cell_type": "code",
      "source": [
        "elmo = hub.load(\"https://tfhub.dev/google/elmo/3\")"
      ],
      "metadata": {
        "id": "mInUE5C9hWZI"
      },
      "execution_count": 47,
      "outputs": []
    },
    {
      "cell_type": "markdown",
      "source": [
        "Elmo vectors for Random sentences"
      ],
      "metadata": {
        "id": "FChJfhMvihrl"
      }
    },
    {
      "cell_type": "code",
      "source": [
        "# Define your input text as a list of strings\n",
        "input_text = [\"This is a sample sentence.\", \"ELMo embeddings are powerful.\"]"
      ],
      "metadata": {
        "id": "Wd245nlKilB2"
      },
      "execution_count": 48,
      "outputs": []
    },
    {
      "cell_type": "code",
      "source": [
        "# Get ELMo embeddings\n",
        "elmo_result = elmo.signatures[\"default\"](tf.constant(input_text))[\"elmo\"]"
      ],
      "metadata": {
        "id": "_-Jsl-iwipDt"
      },
      "execution_count": 49,
      "outputs": []
    },
    {
      "cell_type": "code",
      "source": [
        "elmo_result.shape"
      ],
      "metadata": {
        "colab": {
          "base_uri": "https://localhost:8080/"
        },
        "id": "sIVi8Gl4x_9w",
        "outputId": "3122993c-3fa3-4a2d-d0f2-d9d1f82eee75"
      },
      "execution_count": 51,
      "outputs": [
        {
          "output_type": "execute_result",
          "data": {
            "text/plain": [
              "TensorShape([2, 5, 1024])"
            ]
          },
          "metadata": {},
          "execution_count": 51
        }
      ]
    },
    {
      "cell_type": "code",
      "source": [
        "# Create a TensorFlow session\n",
        "with tf.compat.v1.Session() as session:\n",
        "    session.run(tf.compat.v1.global_variables_initializer())\n",
        "    session.run(tf.compat.v1.tables_initializer())\n",
        "\n",
        "    # Run the session to obtain ELMo embeddings\n",
        "    embeddings_result = session.run(elmo_result)"
      ],
      "metadata": {
        "id": "R8SW9S6QxlE8"
      },
      "execution_count": 50,
      "outputs": []
    },
    {
      "cell_type": "markdown",
      "source": [
        "Creating function for ELMO-Vectors"
      ],
      "metadata": {
        "id": "eUVaTUGEzCf3"
      }
    },
    {
      "cell_type": "code",
      "source": [
        "def elmo_vectors(x):\n",
        "  elmo_result = elmo.signatures[\"default\"](tf.constant(input_text))[\"elmo\"]\n",
        "  # Create a TensorFlow session\n",
        "  with tf.compat.v1.Session() as session:\n",
        "    session.run(tf.compat.v1.global_variables_initializer())\n",
        "    session.run(tf.compat.v1.tables_initializer())\n",
        "\n",
        "    # Run the session to obtain ELMo embeddings\n",
        "    embeddings_result = session.run(elmo_result)\n",
        "    return embeddings_result"
      ],
      "metadata": {
        "id": "vcXJV2-Aylm-"
      },
      "execution_count": 52,
      "outputs": []
    },
    {
      "cell_type": "markdown",
      "source": [
        "Extract ELMO embeddings"
      ],
      "metadata": {
        "id": "vLizgkkJzJfS"
      }
    },
    {
      "cell_type": "code",
      "source": [
        "#spliting both train and test set into batches of 100 samples\n",
        "list_train = [train_dataset[i:i+100] for i in range(0,train_dataset.shape[0],100)]\n",
        "list_test = [test_dataset[i:i+100] for i in range(0,test_dataset.shape[0],100)]"
      ],
      "metadata": {
        "id": "LHx7r54xzRQX"
      },
      "execution_count": 53,
      "outputs": []
    },
    {
      "cell_type": "code",
      "source": [
        "# Extract ELMo embeddings\n",
        "elmo_train = [elmo_vectors(x['clean_tweet']) for x in list_train]\n",
        "elmo_test = [elmo_vectors(x['clean_tweet']) for x in list_test]"
      ],
      "metadata": {
        "id": "4euL3adyzch_"
      },
      "execution_count": 54,
      "outputs": []
    },
    {
      "cell_type": "code",
      "source": [
        "# concatenating vectors back to a single array\n",
        "elmo_train_new = np.concatenate(elmo_train, axis = 0)\n",
        "elmo_test_new = np.concatenate(elmo_test, axis = 0)"
      ],
      "metadata": {
        "id": "kdJt0Xxmzm7_"
      },
      "execution_count": 55,
      "outputs": []
    },
    {
      "cell_type": "code",
      "source": [
        "elmo_train_new"
      ],
      "metadata": {
        "colab": {
          "base_uri": "https://localhost:8080/"
        },
        "id": "zS05a4Mt0-EY",
        "outputId": "61587530-537a-43fa-ddf3-273cd9fed88e"
      },
      "execution_count": 56,
      "outputs": [
        {
          "output_type": "execute_result",
          "data": {
            "text/plain": [
              "array([[[-0.5142067 , -0.46363446,  0.06954876, ..., -0.5121533 ,\n",
              "         -0.07905366, -0.04618377],\n",
              "        [-0.27039832, -0.51222134,  0.11160287, ..., -0.41459325,\n",
              "          0.44053242,  0.59563017],\n",
              "        [-0.18552758,  0.07125243,  0.41650227, ...,  0.4526219 ,\n",
              "         -0.11935171, -0.23624256],\n",
              "        [-0.49269325, -0.2930713 ,  1.0139275 , ...,  0.33318982,\n",
              "          0.11209002, -0.02819705],\n",
              "        [-0.25487682,  0.26428893, -0.16695958, ..., -0.11661101,\n",
              "          0.19026297,  0.98159707]],\n",
              "\n",
              "       [[ 0.22764051, -0.0571156 ,  0.10660114, ..., -0.30185682,\n",
              "         -0.8543476 , -0.10723631],\n",
              "        [-0.38947773,  1.1483682 ,  0.02387787, ...,  0.31108117,\n",
              "          0.08831009, -0.07550527],\n",
              "        [ 0.15515377,  0.15371701, -0.16215982, ..., -0.11710428,\n",
              "          0.28011465,  0.01975572],\n",
              "        [-0.0251216 ,  0.31629717, -0.40936878, ...,  0.14916626,\n",
              "         -0.0158485 ,  0.1849309 ],\n",
              "        [-0.0284084 , -0.04353216,  0.04130162, ...,  0.02583168,\n",
              "         -0.01429836, -0.01650422]],\n",
              "\n",
              "       [[-0.5142067 , -0.46363446,  0.06954876, ..., -0.5121533 ,\n",
              "         -0.07905366, -0.04618377],\n",
              "        [-0.27039832, -0.51222134,  0.11160287, ..., -0.41459325,\n",
              "          0.44053242,  0.59563017],\n",
              "        [-0.18552758,  0.07125243,  0.41650227, ...,  0.4526219 ,\n",
              "         -0.11935171, -0.23624256],\n",
              "        [-0.49269325, -0.2930713 ,  1.0139275 , ...,  0.33318982,\n",
              "          0.11209002, -0.02819705],\n",
              "        [-0.25487682,  0.26428893, -0.16695958, ..., -0.11661101,\n",
              "          0.19026297,  0.98159707]],\n",
              "\n",
              "       ...,\n",
              "\n",
              "       [[ 0.22764051, -0.0571156 ,  0.10660114, ..., -0.30185682,\n",
              "         -0.8543476 , -0.10723631],\n",
              "        [-0.38947773,  1.1483682 ,  0.02387787, ...,  0.31108117,\n",
              "          0.08831009, -0.07550527],\n",
              "        [ 0.15515377,  0.15371701, -0.16215982, ..., -0.11710428,\n",
              "          0.28011465,  0.01975572],\n",
              "        [-0.0251216 ,  0.31629717, -0.40936878, ...,  0.14916626,\n",
              "         -0.0158485 ,  0.1849309 ],\n",
              "        [-0.0284084 , -0.04353216,  0.04130162, ...,  0.02583168,\n",
              "         -0.01429836, -0.01650422]],\n",
              "\n",
              "       [[-0.5142067 , -0.46363446,  0.06954876, ..., -0.5121533 ,\n",
              "         -0.07905366, -0.04618377],\n",
              "        [-0.27039832, -0.51222134,  0.11160287, ..., -0.41459325,\n",
              "          0.44053242,  0.59563017],\n",
              "        [-0.18552758,  0.07125243,  0.41650227, ...,  0.4526219 ,\n",
              "         -0.11935171, -0.23624256],\n",
              "        [-0.49269325, -0.2930713 ,  1.0139275 , ...,  0.33318982,\n",
              "          0.11209002, -0.02819705],\n",
              "        [-0.25487682,  0.26428893, -0.16695958, ..., -0.11661101,\n",
              "          0.19026297,  0.98159707]],\n",
              "\n",
              "       [[ 0.22764051, -0.0571156 ,  0.10660114, ..., -0.30185682,\n",
              "         -0.8543476 , -0.10723631],\n",
              "        [-0.38947773,  1.1483682 ,  0.02387787, ...,  0.31108117,\n",
              "          0.08831009, -0.07550527],\n",
              "        [ 0.15515377,  0.15371701, -0.16215982, ..., -0.11710428,\n",
              "          0.28011465,  0.01975572],\n",
              "        [-0.0251216 ,  0.31629717, -0.40936878, ...,  0.14916626,\n",
              "         -0.0158485 ,  0.1849309 ],\n",
              "        [-0.0284084 , -0.04353216,  0.04130162, ...,  0.02583168,\n",
              "         -0.01429836, -0.01650422]]], dtype=float32)"
            ]
          },
          "metadata": {},
          "execution_count": 56
        }
      ]
    },
    {
      "cell_type": "code",
      "source": [
        "elmo_test_new"
      ],
      "metadata": {
        "id": "_3bq9_U31Cld",
        "outputId": "44c4539e-484c-4e6e-dfba-36e113d1de47",
        "colab": {
          "base_uri": "https://localhost:8080/"
        }
      },
      "execution_count": 57,
      "outputs": [
        {
          "output_type": "execute_result",
          "data": {
            "text/plain": [
              "array([[[-0.5142067 , -0.46363446,  0.06954876, ..., -0.5121533 ,\n",
              "         -0.07905366, -0.04618377],\n",
              "        [-0.27039832, -0.51222134,  0.11160287, ..., -0.41459325,\n",
              "          0.44053242,  0.59563017],\n",
              "        [-0.18552758,  0.07125243,  0.41650227, ...,  0.4526219 ,\n",
              "         -0.11935171, -0.23624256],\n",
              "        [-0.49269325, -0.2930713 ,  1.0139275 , ...,  0.33318982,\n",
              "          0.11209002, -0.02819705],\n",
              "        [-0.25487682,  0.26428893, -0.16695958, ..., -0.11661101,\n",
              "          0.19026297,  0.98159707]],\n",
              "\n",
              "       [[ 0.22764051, -0.0571156 ,  0.10660114, ..., -0.30185682,\n",
              "         -0.8543476 , -0.10723631],\n",
              "        [-0.38947773,  1.1483682 ,  0.02387787, ...,  0.31108117,\n",
              "          0.08831009, -0.07550527],\n",
              "        [ 0.15515377,  0.15371701, -0.16215982, ..., -0.11710428,\n",
              "          0.28011465,  0.01975572],\n",
              "        [-0.0251216 ,  0.31629717, -0.40936878, ...,  0.14916626,\n",
              "         -0.0158485 ,  0.1849309 ],\n",
              "        [-0.0284084 , -0.04353216,  0.04130162, ...,  0.02583168,\n",
              "         -0.01429836, -0.01650422]],\n",
              "\n",
              "       [[-0.5142067 , -0.46363446,  0.06954876, ..., -0.5121533 ,\n",
              "         -0.07905366, -0.04618377],\n",
              "        [-0.27039832, -0.51222134,  0.11160287, ..., -0.41459325,\n",
              "          0.44053242,  0.59563017],\n",
              "        [-0.18552758,  0.07125243,  0.41650227, ...,  0.4526219 ,\n",
              "         -0.11935171, -0.23624256],\n",
              "        [-0.49269325, -0.2930713 ,  1.0139275 , ...,  0.33318982,\n",
              "          0.11209002, -0.02819705],\n",
              "        [-0.25487682,  0.26428893, -0.16695958, ..., -0.11661101,\n",
              "          0.19026297,  0.98159707]],\n",
              "\n",
              "       ...,\n",
              "\n",
              "       [[ 0.22764051, -0.0571156 ,  0.10660114, ..., -0.30185682,\n",
              "         -0.8543476 , -0.10723631],\n",
              "        [-0.38947773,  1.1483682 ,  0.02387787, ...,  0.31108117,\n",
              "          0.08831009, -0.07550527],\n",
              "        [ 0.15515377,  0.15371701, -0.16215982, ..., -0.11710428,\n",
              "          0.28011465,  0.01975572],\n",
              "        [-0.0251216 ,  0.31629717, -0.40936878, ...,  0.14916626,\n",
              "         -0.0158485 ,  0.1849309 ],\n",
              "        [-0.0284084 , -0.04353216,  0.04130162, ...,  0.02583168,\n",
              "         -0.01429836, -0.01650422]],\n",
              "\n",
              "       [[-0.5142067 , -0.46363446,  0.06954876, ..., -0.5121533 ,\n",
              "         -0.07905366, -0.04618377],\n",
              "        [-0.27039832, -0.51222134,  0.11160287, ..., -0.41459325,\n",
              "          0.44053242,  0.59563017],\n",
              "        [-0.18552758,  0.07125243,  0.41650227, ...,  0.4526219 ,\n",
              "         -0.11935171, -0.23624256],\n",
              "        [-0.49269325, -0.2930713 ,  1.0139275 , ...,  0.33318982,\n",
              "          0.11209002, -0.02819705],\n",
              "        [-0.25487682,  0.26428893, -0.16695958, ..., -0.11661101,\n",
              "          0.19026297,  0.98159707]],\n",
              "\n",
              "       [[ 0.22764051, -0.0571156 ,  0.10660114, ..., -0.30185682,\n",
              "         -0.8543476 , -0.10723631],\n",
              "        [-0.38947773,  1.1483682 ,  0.02387787, ...,  0.31108117,\n",
              "          0.08831009, -0.07550527],\n",
              "        [ 0.15515377,  0.15371701, -0.16215982, ..., -0.11710428,\n",
              "          0.28011465,  0.01975572],\n",
              "        [-0.0251216 ,  0.31629717, -0.40936878, ...,  0.14916626,\n",
              "         -0.0158485 ,  0.1849309 ],\n",
              "        [-0.0284084 , -0.04353216,  0.04130162, ...,  0.02583168,\n",
              "         -0.01429836, -0.01650422]]], dtype=float32)"
            ]
          },
          "metadata": {},
          "execution_count": 57
        }
      ]
    }
  ]
}