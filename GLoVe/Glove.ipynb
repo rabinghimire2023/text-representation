{
  "nbformat": 4,
  "nbformat_minor": 0,
  "metadata": {
    "colab": {
      "provenance": []
    },
    "kernelspec": {
      "name": "python3",
      "display_name": "Python 3"
    },
    "language_info": {
      "name": "python"
    },
    "accelerator": "GPU"
  },
  "cells": [
    {
      "cell_type": "code",
      "metadata": {
        "id": "3SZlFKPPpAyK"
      },
      "source": [
        "#Importing Dependencies\n",
        "import os\n",
        "import urllib.request"
      ],
      "execution_count": 2,
      "outputs": []
    },
    {
      "cell_type": "markdown",
      "source": [
        "Downloading the Standford Pre-trained models"
      ],
      "metadata": {
        "id": "WqZ0RgE82pSI"
      }
    },
    {
      "cell_type": "code",
      "metadata": {
        "colab": {
          "base_uri": "https://localhost:8080/"
        },
        "id": "dcegp2w2rOt0",
        "outputId": "33e0373e-e00a-494b-a4ec-cff5b4d2c006"
      },
      "source": [
        "urllib.request.urlretrieve('https://nlp.stanford.edu/data/glove.6B.zip','glove.6B.zip')"
      ],
      "execution_count": 4,
      "outputs": [
        {
          "output_type": "execute_result",
          "data": {
            "text/plain": [
              "('glove.6B.zip', <http.client.HTTPMessage at 0x7d15d0a303a0>)"
            ]
          },
          "metadata": {},
          "execution_count": 4
        }
      ]
    },
    {
      "cell_type": "code",
      "metadata": {
        "colab": {
          "base_uri": "https://localhost:8080/"
        },
        "id": "KH1jhhLCr80A",
        "outputId": "dbf84685-9eb2-4a40-e895-e63f55e81c4d"
      },
      "source": [
        "!unzip \"/content/glove.6B.zip\" -d \"/content/\""
      ],
      "execution_count": 5,
      "outputs": [
        {
          "output_type": "stream",
          "name": "stdout",
          "text": [
            "Archive:  /content/glove.6B.zip\n",
            "  inflating: /content/glove.6B.50d.txt  \n",
            "  inflating: /content/glove.6B.100d.txt  \n",
            "  inflating: /content/glove.6B.200d.txt  \n",
            "  inflating: /content/glove.6B.300d.txt  \n"
          ]
        }
      ]
    },
    {
      "cell_type": "markdown",
      "source": [
        "Importing Dependencies"
      ],
      "metadata": {
        "id": "Mx2K9HDC4F56"
      }
    },
    {
      "cell_type": "code",
      "metadata": {
        "id": "di_2f9fSs85M"
      },
      "source": [
        "import matplotlib.pyplot as plt\n",
        "from scipy import spatial\n",
        "from sklearn.manifold import TSNE\n",
        "import numpy as np"
      ],
      "execution_count": 6,
      "outputs": []
    },
    {
      "cell_type": "markdown",
      "source": [
        "Create a dictionary holding each word and its respective vector"
      ],
      "metadata": {
        "id": "TWOlZufU4sjI"
      }
    },
    {
      "cell_type": "code",
      "metadata": {
        "id": "p3hQeiRmuUey"
      },
      "source": [
        "emmbed_dict = {}\n",
        "with open('/content/glove.6B.200d.txt','r') as f:\n",
        "  for line in f:\n",
        "    values = line.split()\n",
        "    word = values[0]\n",
        "    vector = np.asarray(values[1:],'float32')\n",
        "    emmbed_dict[word]=vector"
      ],
      "execution_count": 25,
      "outputs": []
    },
    {
      "cell_type": "code",
      "metadata": {
        "colab": {
          "base_uri": "https://localhost:8080/"
        },
        "id": "qr8Z_SZ7alEx",
        "outputId": "d91d9410-27aa-4d61-e668-c5ce245edebb"
      },
      "source": [
        "emmbed_dict['china']"
      ],
      "execution_count": 26,
      "outputs": [
        {
          "output_type": "execute_result",
          "data": {
            "text/plain": [
              "array([ 0.58774  ,  0.3612   , -0.11296  , -0.62175  , -0.10325  ,\n",
              "        0.019212 , -0.1675   , -0.30572  , -0.0080747,  0.027789 ,\n",
              "       -0.60987  ,  0.35025  , -0.80828  , -0.46394  ,  0.8397   ,\n",
              "        0.77523  ,  0.33289  ,  0.16633  , -0.54131  , -0.42315  ,\n",
              "        0.75033  ,  3.2082   , -0.25684  , -0.13687  , -0.14613  ,\n",
              "        0.93521  , -0.13595  ,  0.66101  ,  0.046114 ,  0.098371 ,\n",
              "        0.54155  , -0.81943  , -0.39796  ,  0.40344  , -0.19738  ,\n",
              "        0.5707   , -0.32293  , -0.10846  , -0.82637  , -0.020601 ,\n",
              "        0.13851  ,  0.34918  ,  0.10125  , -0.22282  , -0.40119  ,\n",
              "        0.18328  ,  0.53619  , -0.91611  , -0.39041  , -0.13162  ,\n",
              "        0.052779 , -0.30784  ,  0.24295  ,  0.24651  , -0.19654  ,\n",
              "       -0.055681 , -0.80493  , -0.15138  , -0.0057331,  1.0077   ,\n",
              "        0.011414 ,  0.35755  ,  0.18176  ,  0.73889  ,  0.10311  ,\n",
              "        0.26755  , -0.58326  ,  0.60994  , -0.45482  , -0.063762 ,\n",
              "        0.21796  , -0.19049  ,  0.099971 ,  0.5695   , -0.35597  ,\n",
              "        1.4769   ,  0.74311  , -0.021575 ,  0.26444  , -0.27903  ,\n",
              "       -0.21532  ,  0.20345  , -0.11429  , -0.37302  , -0.31977  ,\n",
              "       -0.17083  ,  1.3066   ,  0.032393 ,  0.30115  ,  0.069228 ,\n",
              "       -0.042317 , -0.14981  , -0.78903  , -0.40395  , -0.91762  ,\n",
              "        0.3554   ,  0.28514  ,  0.12307  ,  0.23289  , -0.11     ,\n",
              "       -0.14124  ,  0.17215  , -0.85992  ,  0.41792  ,  0.37041  ,\n",
              "       -0.18084  ,  0.13941  ,  0.46158  , -0.50496  , -0.42616  ,\n",
              "        0.034435 , -0.98928  , -0.25506  ,  0.22826  ,  0.053784 ,\n",
              "       -0.10081  , -0.26101  ,  0.58089  , -1.2646   ,  0.46155  ,\n",
              "        0.36932  ,  0.31397  , -0.22899  ,  0.085999 , -0.33973  ,\n",
              "       -0.2997   ,  0.089269 , -0.11748  , -0.1185   ,  0.22439  ,\n",
              "        0.65149  ,  0.017391 , -0.3618   , -0.79978  , -0.35573  ,\n",
              "        0.53552  , -0.53695  ,  0.42574  ,  0.54035  , -0.4198   ,\n",
              "        0.65561  , -0.2992   , -0.039907 ,  0.20887  ,  1.5511   ,\n",
              "        0.070692 , -0.6203   , -0.9035   , -0.63032  ,  0.091718 ,\n",
              "        0.4037   , -0.01093  ,  0.36605  ,  0.3233   ,  0.36524  ,\n",
              "       -0.43955  , -0.22039  , -0.50156  , -0.4996   , -0.34816  ,\n",
              "        0.46716  ,  0.076645 , -0.12248  , -0.64193  , -0.21372  ,\n",
              "        0.7902   , -0.096637 , -0.61155  , -0.16174  ,  0.80205  ,\n",
              "        0.33295  , -0.48579  , -0.054287 , -0.31692  , -0.38919  ,\n",
              "        0.75481  , -0.14343  ,  0.032473 , -0.1062   , -0.20402  ,\n",
              "        1.3746   , -0.056701 , -0.17153  , -0.15553  , -0.4608   ,\n",
              "        0.31237  , -0.1724   ,  0.59751  ,  0.31304  ,  0.41673  ,\n",
              "       -1.021    , -0.15293  , -0.15955  ,  0.58504  ,  0.88183  ,\n",
              "        0.74002  ,  0.36718  ,  0.13588  , -0.32117  ,  0.057076 ],\n",
              "      dtype=float32)"
            ]
          },
          "metadata": {},
          "execution_count": 26
        }
      ]
    },
    {
      "cell_type": "markdown",
      "source": [
        "Finding Similar Words"
      ],
      "metadata": {
        "id": "BfIu8G_Y48d7"
      }
    },
    {
      "cell_type": "code",
      "metadata": {
        "id": "RQeeYvOFvpmW"
      },
      "source": [
        "def find_similar_word(emmbedes):\n",
        "  nearest = sorted(emmbed_dict.keys(), key=lambda word: spatial.distance.euclidean(emmbed_dict[word], emmbedes))\n",
        "  return nearest"
      ],
      "execution_count": 27,
      "outputs": []
    },
    {
      "cell_type": "code",
      "metadata": {
        "colab": {
          "base_uri": "https://localhost:8080/"
        },
        "id": "HO_XEvSJdOHs",
        "outputId": "276683ee-329e-4bf1-f7e6-accac2e03c3d"
      },
      "source": [
        "find_similar_word(emmbed_dict['pond'])[0:10]"
      ],
      "execution_count": 28,
      "outputs": [
        {
          "output_type": "execute_result",
          "data": {
            "text/plain": [
              "['pond',\n",
              " 'ponds',\n",
              " 'brook',\n",
              " 'meadow',\n",
              " 'lake',\n",
              " 'beside',\n",
              " 'waterfall',\n",
              " 'dunns',\n",
              " 'orchard',\n",
              " 'pyoot']"
            ]
          },
          "metadata": {},
          "execution_count": 28
        }
      ]
    },
    {
      "cell_type": "code",
      "metadata": {
        "colab": {
          "base_uri": "https://localhost:8080/"
        },
        "id": "roCgWYTxDteB",
        "outputId": "fc027e59-e848-4bd2-dfdc-eb88ff957841"
      },
      "source": [
        "find_similar_word(emmbed_dict['father'] + emmbed_dict['mother'] + emmbed_dict['daughter'])[0:10]"
      ],
      "execution_count": 29,
      "outputs": [
        {
          "output_type": "execute_result",
          "data": {
            "text/plain": [
              "['daughter',\n",
              " 'mother',\n",
              " 'father',\n",
              " 'wife',\n",
              " 'son',\n",
              " 'husband',\n",
              " 'her',\n",
              " 'brother',\n",
              " 'sister',\n",
              " 'daughters']"
            ]
          },
          "metadata": {},
          "execution_count": 29
        }
      ]
    }
  ]
}